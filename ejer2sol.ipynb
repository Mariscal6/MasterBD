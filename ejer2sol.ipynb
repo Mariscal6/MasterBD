{
  "nbformat": 4,
  "nbformat_minor": 0,
  "metadata": {
    "kernelspec": {
      "display_name": "Python 3",
      "language": "python",
      "name": "python3"
    },
    "language_info": {
      "codemirror_mode": {
        "name": "ipython",
        "version": 3
      },
      "file_extension": ".py",
      "mimetype": "text/x-python",
      "name": "python",
      "nbconvert_exporter": "python",
      "pygments_lexer": "ipython3",
      "version": "3.8.6"
    },
    "colab": {
      "name": "ejer2sol.ipynb",
      "provenance": [],
      "collapsed_sections": [],
      "toc_visible": true,
      "include_colab_link": true
    }
  },
  "cells": [
    {
      "cell_type": "markdown",
      "metadata": {
        "id": "view-in-github",
        "colab_type": "text"
      },
      "source": [
        "<a href=\"https://colab.research.google.com/github/Mariscal6/MLPy/blob/main/ejer2sol.ipynb\" target=\"_parent\"><img src=\"https://colab.research.google.com/assets/colab-badge.svg\" alt=\"Open In Colab\"/></a>"
      ]
    },
    {
      "cell_type": "code",
      "metadata": {
        "id": "ytZd4mYlA-_k"
      },
      "source": [
        "\"\"\" Cualquier librería adicional que necesiteis durante el ejercicio, importadlo en esta sección \"\"\"\n",
        "\n",
        "import pandas as pd\n",
        "import numpy as np\n",
        "import matplotlib.pyplot as plt\n",
        "import seaborn as sns\n",
        "import warnings\n",
        "\n",
        "sns.set_style('darkgrid')\n",
        "np.set_printoptions(precision=2)\n",
        "warnings.filterwarnings(\"ignore\")\n",
        "\n",
        "from sklearn.preprocessing import MinMaxScaler, StandardScaler, Normalizer, Binarizer, RobustScaler\n",
        "from sklearn.compose import ColumnTransformer\n",
        "from sklearn.preprocessing import OneHotEncoder, LabelEncoder, PowerTransformer\n",
        "from sklearn.impute import SimpleImputer, KNNImputer\n",
        "\n",
        "from sklearn.feature_selection import SelectKBest, chi2, RFE\n",
        "from sklearn.model_selection import train_test_split\n",
        "from sklearn.pipeline import make_pipeline, Pipeline\n",
        "from sklearn.decomposition import PCA\n",
        "\n",
        "from sklearn.linear_model import LogisticRegression\n",
        "from sklearn.tree import DecisionTreeClassifier\n",
        "from sklearn.neighbors import KNeighborsClassifier\n",
        "from sklearn.discriminant_analysis import LinearDiscriminantAnalysis\n",
        "from sklearn.naive_bayes import GaussianNB\n",
        "from sklearn.ensemble import RandomForestClassifier, ExtraTreesClassifier\n",
        "from sklearn.svm import SVC\n",
        "\n",
        "from sklearn.metrics import accuracy_score, confusion_matrix, classification_report, f1_score\n",
        "\n",
        "from sklearn.model_selection import KFold, ShuffleSplit, LeaveOneOut, StratifiedKFold\n",
        "from sklearn.model_selection import cross_val_score, cross_val_predict\n",
        "from sklearn.model_selection import GridSearchCV, RandomizedSearchCV"
      ],
      "execution_count": null,
      "outputs": []
    },
    {
      "cell_type": "markdown",
      "metadata": {
        "id": "Zpze1ST-A-_s"
      },
      "source": [
        "## Ejercicio 2\n",
        "Este ejercicio pretende poner en práctica la habilidad de limpiar datos y visualizar plots en para crear finalmente modelos en sklearn.\n",
        "\n",
        "El estudiante tendrá que repasar los comandos realizados en clase y lidiar con posibles errores durante el desarrollo.\n",
        "\n",
        "Para facilitar y agilizar el desarrollo, el estudiante tendrá que rellenar los huecos marcados como '# codigo-alumno'. No obstante, si además el estudiante necesita ejecutar código adicional, siempre podrá utilizar cualquier celda adicional.\n",
        "\n",
        "El estudiante tendrá siempre que introducir una semilla (seed) que generará acorde a su fecha de nacimiento (sin ser intrusivos en edad).\n",
        "\n",
        "Finalmente, la entrega será un fichero .ipynb cambiando nombre y apellido al fichero."
      ]
    },
    {
      "cell_type": "code",
      "metadata": {
        "id": "4dWtV4fDA-_t"
      },
      "source": [
        "\"\"\" El estudiante tendrá que utilizar la semilla proporcionada para todos los procesos aleatorios \"\"\"\n",
        "\n",
        "seed = 6 + 13 * 11"
      ],
      "execution_count": null,
      "outputs": []
    },
    {
      "cell_type": "code",
      "metadata": {
        "colab": {
          "base_uri": "https://localhost:8080/",
          "height": 311
        },
        "id": "rxAW7tn7hqmd",
        "outputId": "dcb47e4c-bdf5-4f9b-8047-7ab73df18a7e"
      },
      "source": [
        "!pip install scikit-learn -U"
      ],
      "execution_count": null,
      "outputs": [
        {
          "output_type": "stream",
          "text": [
            "Collecting scikit-learn\n",
            "\u001b[?25l  Downloading https://files.pythonhosted.org/packages/e2/4c/6111b9a325f29527d7f262e2ee8c730d354b47a728d955e186dacad57a0d/scikit_learn-0.24.1-cp36-cp36m-manylinux2010_x86_64.whl (22.2MB)\n",
            "\u001b[K     |████████████████████████████████| 22.2MB 1.4MB/s \n",
            "\u001b[?25hCollecting threadpoolctl>=2.0.0\n",
            "  Downloading https://files.pythonhosted.org/packages/f7/12/ec3f2e203afa394a149911729357aa48affc59c20e2c1c8297a60f33f133/threadpoolctl-2.1.0-py3-none-any.whl\n",
            "Requirement already satisfied, skipping upgrade: scipy>=0.19.1 in /usr/local/lib/python3.6/dist-packages (from scikit-learn) (1.4.1)\n",
            "Requirement already satisfied, skipping upgrade: numpy>=1.13.3 in /usr/local/lib/python3.6/dist-packages (from scikit-learn) (1.19.5)\n",
            "Requirement already satisfied, skipping upgrade: joblib>=0.11 in /usr/local/lib/python3.6/dist-packages (from scikit-learn) (1.0.0)\n",
            "Installing collected packages: threadpoolctl, scikit-learn\n",
            "  Found existing installation: scikit-learn 0.22.2.post1\n",
            "    Uninstalling scikit-learn-0.22.2.post1:\n",
            "      Successfully uninstalled scikit-learn-0.22.2.post1\n",
            "Successfully installed scikit-learn-0.24.1 threadpoolctl-2.1.0\n"
          ],
          "name": "stdout"
        },
        {
          "output_type": "display_data",
          "data": {
            "application/vnd.colab-display-data+json": {
              "pip_warning": {
                "packages": [
                  "sklearn"
                ]
              }
            }
          },
          "metadata": {
            "tags": []
          }
        }
      ]
    },
    {
      "cell_type": "markdown",
      "metadata": {
        "id": "njSwj5LEA-_v"
      },
      "source": [
        "### Data cleansing\n"
      ]
    },
    {
      "cell_type": "code",
      "metadata": {
        "colab": {
          "base_uri": "https://localhost:8080/",
          "height": 211
        },
        "id": "4JWKLWkxA-_v",
        "outputId": "f8fe4e71-d1c5-4eec-f3c4-2f819fcb38f8"
      },
      "source": [
        "\"\"\" Leed el dataframe de sklearn llamado 'fetch_kddcup99' y almacenarlo en una variable llamada data \"\"\"\n",
        "\n",
        "from sklearn.datasets import fetch_kddcup99\n",
        "\n",
        "data = fetch_kddcup99(as_frame=True)\n",
        "pd_data = data.frame\n",
        "pd_data.head()"
      ],
      "execution_count": null,
      "outputs": [
        {
          "output_type": "execute_result",
          "data": {
            "text/html": [
              "<div>\n",
              "<style scoped>\n",
              "    .dataframe tbody tr th:only-of-type {\n",
              "        vertical-align: middle;\n",
              "    }\n",
              "\n",
              "    .dataframe tbody tr th {\n",
              "        vertical-align: top;\n",
              "    }\n",
              "\n",
              "    .dataframe thead th {\n",
              "        text-align: right;\n",
              "    }\n",
              "</style>\n",
              "<table border=\"1\" class=\"dataframe\">\n",
              "  <thead>\n",
              "    <tr style=\"text-align: right;\">\n",
              "      <th></th>\n",
              "      <th>duration</th>\n",
              "      <th>protocol_type</th>\n",
              "      <th>service</th>\n",
              "      <th>flag</th>\n",
              "      <th>src_bytes</th>\n",
              "      <th>dst_bytes</th>\n",
              "      <th>land</th>\n",
              "      <th>wrong_fragment</th>\n",
              "      <th>urgent</th>\n",
              "      <th>hot</th>\n",
              "      <th>num_failed_logins</th>\n",
              "      <th>logged_in</th>\n",
              "      <th>num_compromised</th>\n",
              "      <th>root_shell</th>\n",
              "      <th>su_attempted</th>\n",
              "      <th>num_root</th>\n",
              "      <th>num_file_creations</th>\n",
              "      <th>num_shells</th>\n",
              "      <th>num_access_files</th>\n",
              "      <th>num_outbound_cmds</th>\n",
              "      <th>is_host_login</th>\n",
              "      <th>is_guest_login</th>\n",
              "      <th>count</th>\n",
              "      <th>srv_count</th>\n",
              "      <th>serror_rate</th>\n",
              "      <th>srv_serror_rate</th>\n",
              "      <th>rerror_rate</th>\n",
              "      <th>srv_rerror_rate</th>\n",
              "      <th>same_srv_rate</th>\n",
              "      <th>diff_srv_rate</th>\n",
              "      <th>srv_diff_host_rate</th>\n",
              "      <th>dst_host_count</th>\n",
              "      <th>dst_host_srv_count</th>\n",
              "      <th>dst_host_same_srv_rate</th>\n",
              "      <th>dst_host_diff_srv_rate</th>\n",
              "      <th>dst_host_same_src_port_rate</th>\n",
              "      <th>dst_host_srv_diff_host_rate</th>\n",
              "      <th>dst_host_serror_rate</th>\n",
              "      <th>dst_host_srv_serror_rate</th>\n",
              "      <th>dst_host_rerror_rate</th>\n",
              "      <th>dst_host_srv_rerror_rate</th>\n",
              "      <th>labels</th>\n",
              "    </tr>\n",
              "  </thead>\n",
              "  <tbody>\n",
              "    <tr>\n",
              "      <th>0</th>\n",
              "      <td>0</td>\n",
              "      <td>b'tcp'</td>\n",
              "      <td>b'http'</td>\n",
              "      <td>b'SF'</td>\n",
              "      <td>181</td>\n",
              "      <td>5450</td>\n",
              "      <td>0</td>\n",
              "      <td>0</td>\n",
              "      <td>0</td>\n",
              "      <td>0</td>\n",
              "      <td>0</td>\n",
              "      <td>1</td>\n",
              "      <td>0</td>\n",
              "      <td>0</td>\n",
              "      <td>0</td>\n",
              "      <td>0</td>\n",
              "      <td>0</td>\n",
              "      <td>0</td>\n",
              "      <td>0</td>\n",
              "      <td>0</td>\n",
              "      <td>0</td>\n",
              "      <td>0</td>\n",
              "      <td>8</td>\n",
              "      <td>8</td>\n",
              "      <td>0</td>\n",
              "      <td>0</td>\n",
              "      <td>0</td>\n",
              "      <td>0</td>\n",
              "      <td>1</td>\n",
              "      <td>0</td>\n",
              "      <td>0</td>\n",
              "      <td>9</td>\n",
              "      <td>9</td>\n",
              "      <td>1</td>\n",
              "      <td>0</td>\n",
              "      <td>0.11</td>\n",
              "      <td>0</td>\n",
              "      <td>0</td>\n",
              "      <td>0</td>\n",
              "      <td>0</td>\n",
              "      <td>0</td>\n",
              "      <td>b'normal.'</td>\n",
              "    </tr>\n",
              "    <tr>\n",
              "      <th>1</th>\n",
              "      <td>0</td>\n",
              "      <td>b'tcp'</td>\n",
              "      <td>b'http'</td>\n",
              "      <td>b'SF'</td>\n",
              "      <td>239</td>\n",
              "      <td>486</td>\n",
              "      <td>0</td>\n",
              "      <td>0</td>\n",
              "      <td>0</td>\n",
              "      <td>0</td>\n",
              "      <td>0</td>\n",
              "      <td>1</td>\n",
              "      <td>0</td>\n",
              "      <td>0</td>\n",
              "      <td>0</td>\n",
              "      <td>0</td>\n",
              "      <td>0</td>\n",
              "      <td>0</td>\n",
              "      <td>0</td>\n",
              "      <td>0</td>\n",
              "      <td>0</td>\n",
              "      <td>0</td>\n",
              "      <td>8</td>\n",
              "      <td>8</td>\n",
              "      <td>0</td>\n",
              "      <td>0</td>\n",
              "      <td>0</td>\n",
              "      <td>0</td>\n",
              "      <td>1</td>\n",
              "      <td>0</td>\n",
              "      <td>0</td>\n",
              "      <td>19</td>\n",
              "      <td>19</td>\n",
              "      <td>1</td>\n",
              "      <td>0</td>\n",
              "      <td>0.05</td>\n",
              "      <td>0</td>\n",
              "      <td>0</td>\n",
              "      <td>0</td>\n",
              "      <td>0</td>\n",
              "      <td>0</td>\n",
              "      <td>b'normal.'</td>\n",
              "    </tr>\n",
              "    <tr>\n",
              "      <th>2</th>\n",
              "      <td>0</td>\n",
              "      <td>b'tcp'</td>\n",
              "      <td>b'http'</td>\n",
              "      <td>b'SF'</td>\n",
              "      <td>235</td>\n",
              "      <td>1337</td>\n",
              "      <td>0</td>\n",
              "      <td>0</td>\n",
              "      <td>0</td>\n",
              "      <td>0</td>\n",
              "      <td>0</td>\n",
              "      <td>1</td>\n",
              "      <td>0</td>\n",
              "      <td>0</td>\n",
              "      <td>0</td>\n",
              "      <td>0</td>\n",
              "      <td>0</td>\n",
              "      <td>0</td>\n",
              "      <td>0</td>\n",
              "      <td>0</td>\n",
              "      <td>0</td>\n",
              "      <td>0</td>\n",
              "      <td>8</td>\n",
              "      <td>8</td>\n",
              "      <td>0</td>\n",
              "      <td>0</td>\n",
              "      <td>0</td>\n",
              "      <td>0</td>\n",
              "      <td>1</td>\n",
              "      <td>0</td>\n",
              "      <td>0</td>\n",
              "      <td>29</td>\n",
              "      <td>29</td>\n",
              "      <td>1</td>\n",
              "      <td>0</td>\n",
              "      <td>0.03</td>\n",
              "      <td>0</td>\n",
              "      <td>0</td>\n",
              "      <td>0</td>\n",
              "      <td>0</td>\n",
              "      <td>0</td>\n",
              "      <td>b'normal.'</td>\n",
              "    </tr>\n",
              "    <tr>\n",
              "      <th>3</th>\n",
              "      <td>0</td>\n",
              "      <td>b'tcp'</td>\n",
              "      <td>b'http'</td>\n",
              "      <td>b'SF'</td>\n",
              "      <td>219</td>\n",
              "      <td>1337</td>\n",
              "      <td>0</td>\n",
              "      <td>0</td>\n",
              "      <td>0</td>\n",
              "      <td>0</td>\n",
              "      <td>0</td>\n",
              "      <td>1</td>\n",
              "      <td>0</td>\n",
              "      <td>0</td>\n",
              "      <td>0</td>\n",
              "      <td>0</td>\n",
              "      <td>0</td>\n",
              "      <td>0</td>\n",
              "      <td>0</td>\n",
              "      <td>0</td>\n",
              "      <td>0</td>\n",
              "      <td>0</td>\n",
              "      <td>6</td>\n",
              "      <td>6</td>\n",
              "      <td>0</td>\n",
              "      <td>0</td>\n",
              "      <td>0</td>\n",
              "      <td>0</td>\n",
              "      <td>1</td>\n",
              "      <td>0</td>\n",
              "      <td>0</td>\n",
              "      <td>39</td>\n",
              "      <td>39</td>\n",
              "      <td>1</td>\n",
              "      <td>0</td>\n",
              "      <td>0.03</td>\n",
              "      <td>0</td>\n",
              "      <td>0</td>\n",
              "      <td>0</td>\n",
              "      <td>0</td>\n",
              "      <td>0</td>\n",
              "      <td>b'normal.'</td>\n",
              "    </tr>\n",
              "    <tr>\n",
              "      <th>4</th>\n",
              "      <td>0</td>\n",
              "      <td>b'tcp'</td>\n",
              "      <td>b'http'</td>\n",
              "      <td>b'SF'</td>\n",
              "      <td>217</td>\n",
              "      <td>2032</td>\n",
              "      <td>0</td>\n",
              "      <td>0</td>\n",
              "      <td>0</td>\n",
              "      <td>0</td>\n",
              "      <td>0</td>\n",
              "      <td>1</td>\n",
              "      <td>0</td>\n",
              "      <td>0</td>\n",
              "      <td>0</td>\n",
              "      <td>0</td>\n",
              "      <td>0</td>\n",
              "      <td>0</td>\n",
              "      <td>0</td>\n",
              "      <td>0</td>\n",
              "      <td>0</td>\n",
              "      <td>0</td>\n",
              "      <td>6</td>\n",
              "      <td>6</td>\n",
              "      <td>0</td>\n",
              "      <td>0</td>\n",
              "      <td>0</td>\n",
              "      <td>0</td>\n",
              "      <td>1</td>\n",
              "      <td>0</td>\n",
              "      <td>0</td>\n",
              "      <td>49</td>\n",
              "      <td>49</td>\n",
              "      <td>1</td>\n",
              "      <td>0</td>\n",
              "      <td>0.02</td>\n",
              "      <td>0</td>\n",
              "      <td>0</td>\n",
              "      <td>0</td>\n",
              "      <td>0</td>\n",
              "      <td>0</td>\n",
              "      <td>b'normal.'</td>\n",
              "    </tr>\n",
              "  </tbody>\n",
              "</table>\n",
              "</div>"
            ],
            "text/plain": [
              "  duration protocol_type  ... dst_host_srv_rerror_rate      labels\n",
              "0        0        b'tcp'  ...                        0  b'normal.'\n",
              "1        0        b'tcp'  ...                        0  b'normal.'\n",
              "2        0        b'tcp'  ...                        0  b'normal.'\n",
              "3        0        b'tcp'  ...                        0  b'normal.'\n",
              "4        0        b'tcp'  ...                        0  b'normal.'\n",
              "\n",
              "[5 rows x 42 columns]"
            ]
          },
          "metadata": {
            "tags": []
          },
          "execution_count": 3
        }
      ]
    },
    {
      "cell_type": "code",
      "metadata": {
        "colab": {
          "base_uri": "https://localhost:8080/",
          "height": 191
        },
        "id": "2EbPKF_JA-_w",
        "outputId": "db2a7882-5e7d-4033-81e3-f45ffce9219b"
      },
      "source": [
        "\"\"\" De entre todas las variables del dataframe, solo trabajaremos en \n",
        "    este ejercicio con las descritas en key_columns, por lo que tendréis que quitar el resto \"\"\"\n",
        "\n",
        "key_columns = ['duration', 'protocol_type', 'service', 'flag', 'logged_in', 'count', 'srv_count', 'serror_rate', 'dst_host_srv_count', 'dst_host_srv_serror_rate', 'labels']\n",
        "\n",
        "pd_data = pd_data[key_columns]\n",
        "pd_data.head()"
      ],
      "execution_count": null,
      "outputs": [
        {
          "output_type": "execute_result",
          "data": {
            "text/html": [
              "<div>\n",
              "<style scoped>\n",
              "    .dataframe tbody tr th:only-of-type {\n",
              "        vertical-align: middle;\n",
              "    }\n",
              "\n",
              "    .dataframe tbody tr th {\n",
              "        vertical-align: top;\n",
              "    }\n",
              "\n",
              "    .dataframe thead th {\n",
              "        text-align: right;\n",
              "    }\n",
              "</style>\n",
              "<table border=\"1\" class=\"dataframe\">\n",
              "  <thead>\n",
              "    <tr style=\"text-align: right;\">\n",
              "      <th></th>\n",
              "      <th>duration</th>\n",
              "      <th>protocol_type</th>\n",
              "      <th>service</th>\n",
              "      <th>flag</th>\n",
              "      <th>logged_in</th>\n",
              "      <th>count</th>\n",
              "      <th>srv_count</th>\n",
              "      <th>serror_rate</th>\n",
              "      <th>dst_host_srv_count</th>\n",
              "      <th>dst_host_srv_serror_rate</th>\n",
              "      <th>labels</th>\n",
              "    </tr>\n",
              "  </thead>\n",
              "  <tbody>\n",
              "    <tr>\n",
              "      <th>0</th>\n",
              "      <td>0</td>\n",
              "      <td>b'tcp'</td>\n",
              "      <td>b'http'</td>\n",
              "      <td>b'SF'</td>\n",
              "      <td>1</td>\n",
              "      <td>8</td>\n",
              "      <td>8</td>\n",
              "      <td>0</td>\n",
              "      <td>9</td>\n",
              "      <td>0</td>\n",
              "      <td>b'normal.'</td>\n",
              "    </tr>\n",
              "    <tr>\n",
              "      <th>1</th>\n",
              "      <td>0</td>\n",
              "      <td>b'tcp'</td>\n",
              "      <td>b'http'</td>\n",
              "      <td>b'SF'</td>\n",
              "      <td>1</td>\n",
              "      <td>8</td>\n",
              "      <td>8</td>\n",
              "      <td>0</td>\n",
              "      <td>19</td>\n",
              "      <td>0</td>\n",
              "      <td>b'normal.'</td>\n",
              "    </tr>\n",
              "    <tr>\n",
              "      <th>2</th>\n",
              "      <td>0</td>\n",
              "      <td>b'tcp'</td>\n",
              "      <td>b'http'</td>\n",
              "      <td>b'SF'</td>\n",
              "      <td>1</td>\n",
              "      <td>8</td>\n",
              "      <td>8</td>\n",
              "      <td>0</td>\n",
              "      <td>29</td>\n",
              "      <td>0</td>\n",
              "      <td>b'normal.'</td>\n",
              "    </tr>\n",
              "    <tr>\n",
              "      <th>3</th>\n",
              "      <td>0</td>\n",
              "      <td>b'tcp'</td>\n",
              "      <td>b'http'</td>\n",
              "      <td>b'SF'</td>\n",
              "      <td>1</td>\n",
              "      <td>6</td>\n",
              "      <td>6</td>\n",
              "      <td>0</td>\n",
              "      <td>39</td>\n",
              "      <td>0</td>\n",
              "      <td>b'normal.'</td>\n",
              "    </tr>\n",
              "    <tr>\n",
              "      <th>4</th>\n",
              "      <td>0</td>\n",
              "      <td>b'tcp'</td>\n",
              "      <td>b'http'</td>\n",
              "      <td>b'SF'</td>\n",
              "      <td>1</td>\n",
              "      <td>6</td>\n",
              "      <td>6</td>\n",
              "      <td>0</td>\n",
              "      <td>49</td>\n",
              "      <td>0</td>\n",
              "      <td>b'normal.'</td>\n",
              "    </tr>\n",
              "  </tbody>\n",
              "</table>\n",
              "</div>"
            ],
            "text/plain": [
              "  duration protocol_type  ... dst_host_srv_serror_rate      labels\n",
              "0        0        b'tcp'  ...                        0  b'normal.'\n",
              "1        0        b'tcp'  ...                        0  b'normal.'\n",
              "2        0        b'tcp'  ...                        0  b'normal.'\n",
              "3        0        b'tcp'  ...                        0  b'normal.'\n",
              "4        0        b'tcp'  ...                        0  b'normal.'\n",
              "\n",
              "[5 rows x 11 columns]"
            ]
          },
          "metadata": {
            "tags": []
          },
          "execution_count": 4
        }
      ]
    },
    {
      "cell_type": "code",
      "metadata": {
        "colab": {
          "base_uri": "https://localhost:8080/"
        },
        "id": "hDbvaH6yA-_w",
        "outputId": "ae6de9c1-3543-4db6-aac1-d4fee461fb97"
      },
      "source": [
        "\"\"\" Comprobad que no haya nulos ni registros duplicados \"\"\"\n",
        "# Compruebo que no hay registros nulos\n",
        "pd_data.isnull().sum()\n"
      ],
      "execution_count": null,
      "outputs": [
        {
          "output_type": "execute_result",
          "data": {
            "text/plain": [
              "duration                    0\n",
              "protocol_type               0\n",
              "service                     0\n",
              "flag                        0\n",
              "logged_in                   0\n",
              "count                       0\n",
              "srv_count                   0\n",
              "serror_rate                 0\n",
              "dst_host_srv_count          0\n",
              "dst_host_srv_serror_rate    0\n",
              "labels                      0\n",
              "dtype: int64"
            ]
          },
          "metadata": {
            "tags": []
          },
          "execution_count": 5
        }
      ]
    },
    {
      "cell_type": "markdown",
      "metadata": {
        "id": "Y4GIs8XxMS8e"
      },
      "source": [
        "Como podemos ver no hay registros nulos, por lo que no hacemos nada."
      ]
    },
    {
      "cell_type": "code",
      "metadata": {
        "colab": {
          "base_uri": "https://localhost:8080/"
        },
        "id": "-pLjuUkeL1AK",
        "outputId": "dfa04b8f-c197-4707-c92d-c6cafca675a1"
      },
      "source": [
        "# Compruebo que si hay duplicados \r\n",
        "pd_data.duplicated().sum()"
      ],
      "execution_count": null,
      "outputs": [
        {
          "output_type": "execute_result",
          "data": {
            "text/plain": [
              "439856"
            ]
          },
          "metadata": {
            "tags": []
          },
          "execution_count": 6
        }
      ]
    },
    {
      "cell_type": "markdown",
      "metadata": {
        "id": "GHTVH8Y-M1xI"
      },
      "source": [
        "Si hay duplicados por lo que procedo a quitarlos"
      ]
    },
    {
      "cell_type": "code",
      "metadata": {
        "colab": {
          "base_uri": "https://localhost:8080/"
        },
        "id": "XvZ5pFByMoxl",
        "outputId": "ddebbd88-e0fe-4465-aea6-91fe649bf534"
      },
      "source": [
        "pd_data = pd_data[~pd_data.duplicated()]\r\n",
        "pd_data.duplicated().sum()"
      ],
      "execution_count": null,
      "outputs": [
        {
          "output_type": "execute_result",
          "data": {
            "text/plain": [
              "0"
            ]
          },
          "metadata": {
            "tags": []
          },
          "execution_count": 7
        }
      ]
    },
    {
      "cell_type": "code",
      "metadata": {
        "colab": {
          "base_uri": "https://localhost:8080/",
          "height": 362
        },
        "id": "7L26aNvyA-_x",
        "outputId": "c81461dc-160b-46a1-9bfc-5e441dd7d3c5"
      },
      "source": [
        "\"\"\" Mostrar un barplot para la variable objetivo (labels)\"\"\"\n",
        "\n",
        "target = 'labels'\n",
        "\n",
        "k = pd_data.groupby([target]).size()\n",
        "\n",
        "k.plot(kind='bar')\n",
        "plt.show()"
      ],
      "execution_count": null,
      "outputs": [
        {
          "output_type": "display_data",
          "data": {
            "image/png": "[encoded data removed]",
            "text/plain": [
              "<Figure size 432x288 with 1 Axes>"
            ]
          },
          "metadata": {
            "tags": [],
            "needs_background": "light"
          }
        }
      ]
    },
    {
      "cell_type": "code",
      "metadata": {
        "colab": {
          "base_uri": "https://localhost:8080/"
        },
        "id": "PKcMCYk_A-_x",
        "outputId": "82b58259-2daa-41d6-f9e8-13d36e0c65af"
      },
      "source": [
        "\"\"\" Dado que hay dos etiquetas que se repiten con mayor frecuencia, \n",
        "    transformad la variable labels para que tenga un valor booleano que indique \n",
        "    si es la etiqueta más frecuente o la segunda más frecuente, \n",
        "    los demás registros los eliminaremos de este estudio \"\"\"\n",
        "\n",
        "# Saco en un diccionario las dos categorías más frecuentes, y asigno true y false\n",
        "top_labels = pd_data.groupby('labels').size().sort_values(ascending=False)[:2]\n",
        "top_labels[:] = (True,False)\n",
        "\n",
        "# Si no está en las dos categorías mas frecuentes te elimino\n",
        "pd_data = pd_data[pd_data.labels.isin(top_labels.keys())]\n",
        "# Si está te cambio a true o false, según si es la más frecuente o la menos\n",
        "pd_data.labels= pd_data.labels.apply(lambda x: top_labels[x])\n",
        "\n",
        "print(len(pd_data))\n",
        "top_labels = pd_data.groupby('labels').size().sort_values(ascending=False)\n",
        "print(top_labels)"
      ],
      "execution_count": null,
      "outputs": [
        {
          "output_type": "stream",
          "text": [
            "50177\n",
            "labels\n",
            "True     27722\n",
            "False    22455\n",
            "dtype: int64\n"
          ],
          "name": "stdout"
        }
      ]
    },
    {
      "cell_type": "code",
      "metadata": {
        "colab": {
          "base_uri": "https://localhost:8080/",
          "height": 295
        },
        "id": "Ffprm12hA-_x",
        "outputId": "8fc10522-c0a9-49f7-b159-16bccc7a9188"
      },
      "source": [
        "\"\"\" Volved a mostrar el barplot para la variable objetivo (labels) \"\"\"\n",
        "\n",
        "# codigo-alumno\n",
        "k = pd_data.groupby([target]).size()\n",
        "\n",
        "k.plot(kind='bar')\n",
        "plt.show()"
      ],
      "execution_count": null,
      "outputs": [
        {
          "output_type": "display_data",
          "data": {
            "image/png": "[encoded data removed]",
            "text/plain": [
              "<Figure size 432x288 with 1 Axes>"
            ]
          },
          "metadata": {
            "tags": [],
            "needs_background": "light"
          }
        }
      ]
    },
    {
      "cell_type": "code",
      "metadata": {
        "id": "1DFg70bFA-_y"
      },
      "source": [
        "\"\"\" Separaremos las variables categóricas de las numéricas \"\"\"\n",
        "\n",
        "\n",
        "num_cols = ['duration', 'count', 'srv_count', 'serror_rate', 'dst_host_srv_count', 'dst_host_srv_serror_rate']\n",
        "cat_cols = ['protocol_type', 'service', 'flag', 'logged_in']\n",
        "\n",
        "pd_data[num_cols] = pd_data[num_cols].astype(float)"
      ],
      "execution_count": null,
      "outputs": []
    },
    {
      "cell_type": "code",
      "metadata": {
        "colab": {
          "base_uri": "https://localhost:8080/",
          "height": 1000
        },
        "id": "VNdgfR3EA-_y",
        "outputId": "f9de956d-379c-494c-85e6-4eb164087cbb"
      },
      "source": [
        "\"\"\" Mostrad un histograma por cada variable numérica \"\"\"\n",
        "\n",
        "for n_var in num_cols:\n",
        "  plt.figure(figsize=(5,3))\n",
        "  plt.title(n_var)\n",
        "  sns.histplot(x=n_var, data=pd_data, kde=True, bins=10)\n",
        "  plt.xlabel('')\n",
        "  plt.show()"
      ],
      "execution_count": null,
      "outputs": [
        {
          "output_type": "display_data",
          "data": {
            "image/png": "[encoded data removed]",
            "text/plain": [
              "<Figure size 360x216 with 1 Axes>"
            ]
          },
          "metadata": {
            "tags": [],
            "needs_background": "light"
          }
        },
        {
          "output_type": "display_data",
          "data": {
            "image/png": "[encoded data removed]",
            "text/plain": [
              "<Figure size 360x216 with 1 Axes>"
            ]
          },
          "metadata": {
            "tags": [],
            "needs_background": "light"
          }
        },
        {
          "output_type": "display_data",
          "data": {
            "image/png": "[encoded data removed]",
            "text/plain": [
              "<Figure size 360x216 with 1 Axes>"
            ]
          },
          "metadata": {
            "tags": [],
            "needs_background": "light"
          }
        },
        {
          "output_type": "display_data",
          "data": {
            "image/png": "[encoded data removed]",
            "text/plain": [
              "<Figure size 360x216 with 1 Axes>"
            ]
          },
          "metadata": {
            "tags": [],
            "needs_background": "light"
          }
        },
        {
          "output_type": "display_data",
          "data": {
            "image/png": "[encoded data removed]",
            "text/plain": [
              "<Figure size 360x216 with 1 Axes>"
            ]
          },
          "metadata": {
            "tags": [],
            "needs_background": "light"
          }
        },
        {
          "output_type": "display_data",
          "data": {
            "image/png": "[encoded data removed]",
            "text/plain": [
              "<Figure size 360x216 with 1 Axes>"
            ]
          },
          "metadata": {
            "tags": [],
            "needs_background": "light"
          }
        }
      ]
    },
    {
      "cell_type": "code",
      "metadata": {
        "colab": {
          "base_uri": "https://localhost:8080/",
          "height": 51
        },
        "id": "vVxXjKz3A-_y",
        "outputId": "5c6e5ff6-c9f4-41a2-fd3b-42a4eaa1e985"
      },
      "source": [
        "\"\"\" Por la forma de los histogramas, podría ser un buen estudio convertir las variables\n",
        "    numéricas a variables dummy, es lo que hareis en este apartado y, por tanto, pasarán \n",
        "    a ser categóricas todas las variables del dataframe. Esta parte será libre para el \n",
        "    estudiante. Deberá tomar la decisión que considere más apropiada para realizar esta \n",
        "    binarización \"\"\"\n"
      ],
      "execution_count": null,
      "outputs": [
        {
          "output_type": "execute_result",
          "data": {
            "application/vnd.google.colaboratory.intrinsic+json": {
              "type": "string"
            },
            "text/plain": [
              "' Por la forma de los histogramas, podría ser un buen estudio convertir las variables\\n    numéricas a variables dummy, es lo que hareis en este apartado y, por tanto, pasarán \\n    a ser categóricas todas las variables del dataframe. Esta parte será libre para el \\n    estudiante. Deberá tomar la decisión que considere más apropiada para realizar esta \\n    binarización '"
            ]
          },
          "metadata": {
            "tags": []
          },
          "execution_count": 13
        }
      ]
    },
    {
      "cell_type": "markdown",
      "metadata": {
        "id": "NThXTrytNo_a"
      },
      "source": [
        "Primero voy a ver como son los datos, también numéricamente"
      ]
    },
    {
      "cell_type": "code",
      "metadata": {
        "colab": {
          "base_uri": "https://localhost:8080/",
          "height": 277
        },
        "id": "U90X3GW9Njuk",
        "outputId": "1c0a8f1c-1cf1-4189-d75b-7b2f71074e33"
      },
      "source": [
        "pd_data.describe()"
      ],
      "execution_count": null,
      "outputs": [
        {
          "output_type": "execute_result",
          "data": {
            "text/html": [
              "<div>\n",
              "<style scoped>\n",
              "    .dataframe tbody tr th:only-of-type {\n",
              "        vertical-align: middle;\n",
              "    }\n",
              "\n",
              "    .dataframe tbody tr th {\n",
              "        vertical-align: top;\n",
              "    }\n",
              "\n",
              "    .dataframe thead th {\n",
              "        text-align: right;\n",
              "    }\n",
              "</style>\n",
              "<table border=\"1\" class=\"dataframe\">\n",
              "  <thead>\n",
              "    <tr style=\"text-align: right;\">\n",
              "      <th></th>\n",
              "      <th>duration</th>\n",
              "      <th>count</th>\n",
              "      <th>srv_count</th>\n",
              "      <th>serror_rate</th>\n",
              "      <th>dst_host_srv_count</th>\n",
              "      <th>dst_host_srv_serror_rate</th>\n",
              "    </tr>\n",
              "  </thead>\n",
              "  <tbody>\n",
              "    <tr>\n",
              "      <th>count</th>\n",
              "      <td>50177.000000</td>\n",
              "      <td>50177.000000</td>\n",
              "      <td>50177.000000</td>\n",
              "      <td>50177.000000</td>\n",
              "      <td>50177.000000</td>\n",
              "      <td>50177.000000</td>\n",
              "    </tr>\n",
              "    <tr>\n",
              "      <th>mean</th>\n",
              "      <td>275.013911</td>\n",
              "      <td>103.591107</td>\n",
              "      <td>13.796142</td>\n",
              "      <td>0.456563</td>\n",
              "      <td>67.326285</td>\n",
              "      <td>0.455674</td>\n",
              "    </tr>\n",
              "    <tr>\n",
              "      <th>std</th>\n",
              "      <td>1632.164746</td>\n",
              "      <td>101.473094</td>\n",
              "      <td>26.765763</td>\n",
              "      <td>0.496846</td>\n",
              "      <td>89.241232</td>\n",
              "      <td>0.496898</td>\n",
              "    </tr>\n",
              "    <tr>\n",
              "      <th>min</th>\n",
              "      <td>0.000000</td>\n",
              "      <td>0.000000</td>\n",
              "      <td>0.000000</td>\n",
              "      <td>0.000000</td>\n",
              "      <td>0.000000</td>\n",
              "      <td>0.000000</td>\n",
              "    </tr>\n",
              "    <tr>\n",
              "      <th>25%</th>\n",
              "      <td>0.000000</td>\n",
              "      <td>3.000000</td>\n",
              "      <td>2.000000</td>\n",
              "      <td>0.000000</td>\n",
              "      <td>7.000000</td>\n",
              "      <td>0.000000</td>\n",
              "    </tr>\n",
              "    <tr>\n",
              "      <th>50%</th>\n",
              "      <td>0.000000</td>\n",
              "      <td>101.000000</td>\n",
              "      <td>8.000000</td>\n",
              "      <td>0.000000</td>\n",
              "      <td>16.000000</td>\n",
              "      <td>0.010000</td>\n",
              "    </tr>\n",
              "    <tr>\n",
              "      <th>75%</th>\n",
              "      <td>0.000000</td>\n",
              "      <td>203.000000</td>\n",
              "      <td>16.000000</td>\n",
              "      <td>1.000000</td>\n",
              "      <td>114.000000</td>\n",
              "      <td>1.000000</td>\n",
              "    </tr>\n",
              "    <tr>\n",
              "      <th>max</th>\n",
              "      <td>58329.000000</td>\n",
              "      <td>511.000000</td>\n",
              "      <td>510.000000</td>\n",
              "      <td>1.000000</td>\n",
              "      <td>255.000000</td>\n",
              "      <td>1.000000</td>\n",
              "    </tr>\n",
              "  </tbody>\n",
              "</table>\n",
              "</div>"
            ],
            "text/plain": [
              "           duration         count  ...  dst_host_srv_count  dst_host_srv_serror_rate\n",
              "count  50177.000000  50177.000000  ...        50177.000000              50177.000000\n",
              "mean     275.013911    103.591107  ...           67.326285                  0.455674\n",
              "std     1632.164746    101.473094  ...           89.241232                  0.496898\n",
              "min        0.000000      0.000000  ...            0.000000                  0.000000\n",
              "25%        0.000000      3.000000  ...            7.000000                  0.000000\n",
              "50%        0.000000    101.000000  ...           16.000000                  0.010000\n",
              "75%        0.000000    203.000000  ...          114.000000                  1.000000\n",
              "max    58329.000000    511.000000  ...          255.000000                  1.000000\n",
              "\n",
              "[8 rows x 6 columns]"
            ]
          },
          "metadata": {
            "tags": []
          },
          "execution_count": 14
        }
      ]
    },
    {
      "cell_type": "markdown",
      "metadata": {
        "id": "d2GuBB5WN2be"
      },
      "source": [
        "Nos fijamos en la tabla anterior además de los histogramas para elegir las categorías que vamos a utilizar:\r\n",
        "\r\n",
        "\r\n",
        "*   **Duration**,  **srv_count**, **serror_rate**, **serror_rate**, **dst_host_srv_serror_rate**, **dst_host_srv_count** tienen los datos polarizados, tienen mucha cantidad de valores concentrados en una o dos zonas, por lo que lo mejor es separarlos en dos categorías, utilizando la mediana.\r\n",
        "\r\n",
        "*   Para **count** diferenciaremos 3 categorías, si count está entre 0 y 10, de 10 a 140, y mayor de 140, para que las categorías queden homogéneas\r\n"
      ]
    },
    {
      "cell_type": "code",
      "metadata": {
        "colab": {
          "base_uri": "https://localhost:8080/",
          "height": 296
        },
        "id": "G8D6KBwhV1uz",
        "outputId": "745fdf4a-3a97-4e71-855d-8b1fcfad958f"
      },
      "source": [
        "# Variables con dos categorías marcadas, categorizamos utilizandos la mediana (0 en todas exceto en server_count)\r\n",
        "bin_cols = ['duration', 'srv_count', 'serror_rate', 'dst_host_srv_serror_rate','dst_host_srv_count']\r\n",
        "for bin_var in bin_cols:\r\n",
        "  pd_data[bin_var] = Binarizer(threshold= np.median(pd_data[[bin_var]])).fit_transform(pd_data[[bin_var]])\r\n",
        "\r\n",
        "# Count\r\n",
        "pd_data['count'] = pd_data['count'].apply(lambda x: 'count<10' if x<10 else ('count[10,140]' if x < 140 else 'count>140'))\r\n",
        "# Dst_host_srv_count\r\n",
        "#pd_data['count_cat'] = pd_data['dst_host_srv_count'].apply(lambda x: 'count<10' if x<10 else ('count[10,140]' if x < 140 else 'count>140'))\r\n",
        "sns.countplot(pd_data['dst_host_srv_serror_rate'])"
      ],
      "execution_count": null,
      "outputs": [
        {
          "output_type": "execute_result",
          "data": {
            "text/plain": [
              "<matplotlib.axes._subplots.AxesSubplot at 0x7fa3de4dd780>"
            ]
          },
          "metadata": {
            "tags": []
          },
          "execution_count": 15
        },
        {
          "output_type": "display_data",
          "data": {
            "image/png": "[encoded data removed]",
            "text/plain": [
              "<Figure size 432x288 with 1 Axes>"
            ]
          },
          "metadata": {
            "tags": [],
            "needs_background": "light"
          }
        }
      ]
    },
    {
      "cell_type": "code",
      "metadata": {
        "colab": {
          "base_uri": "https://localhost:8080/",
          "height": 1000
        },
        "id": "05GSGtyaA-_y",
        "outputId": "65857c1b-c150-45a5-d00f-9cef8d2ec3db"
      },
      "source": [
        "\"\"\" Mostrad un barplot por cada variable \"\"\"\n",
        "for var in num_cols:\n",
        "  plt.figure(figsize=(5,3))\n",
        "  plt.title(var)\n",
        "  sns.countplot(pd_data[var])\n",
        "  plt.xlabel('')\n",
        "  plt.show()"
      ],
      "execution_count": null,
      "outputs": [
        {
          "output_type": "display_data",
          "data": {
            "image/png": "[encoded data removed]",
            "text/plain": [
              "<Figure size 360x216 with 1 Axes>"
            ]
          },
          "metadata": {
            "tags": [],
            "needs_background": "light"
          }
        },
        {
          "output_type": "display_data",
          "data": {
            "image/png": "[encoded data removed]",
            "text/plain": [
              "<Figure size 360x216 with 1 Axes>"
            ]
          },
          "metadata": {
            "tags": [],
            "needs_background": "light"
          }
        },
        {
          "output_type": "display_data",
          "data": {
            "image/png": "[encoded data removed]",
            "text/plain": [
              "<Figure size 360x216 with 1 Axes>"
            ]
          },
          "metadata": {
            "tags": [],
            "needs_background": "light"
          }
        },
        {
          "output_type": "display_data",
          "data": {
            "image/png": "[encoded data removed]",
            "text/plain": [
              "<Figure size 360x216 with 1 Axes>"
            ]
          },
          "metadata": {
            "tags": [],
            "needs_background": "light"
          }
        },
        {
          "output_type": "display_data",
          "data": {
            "image/png": "[encoded data removed]",
            "text/plain": [
              "<Figure size 360x216 with 1 Axes>"
            ]
          },
          "metadata": {
            "tags": [],
            "needs_background": "light"
          }
        },
        {
          "output_type": "display_data",
          "data": {
            "image/png": "[encoded data removed]",
            "text/plain": [
              "<Figure size 360x216 with 1 Axes>"
            ]
          },
          "metadata": {
            "tags": [],
            "needs_background": "light"
          }
        }
      ]
    },
    {
      "cell_type": "code",
      "metadata": {
        "colab": {
          "base_uri": "https://localhost:8080/"
        },
        "id": "02vfkIgBA-_z",
        "outputId": "f9c217e0-628f-4ba4-85a3-bafa05196cb5"
      },
      "source": [
        "\"\"\" Transformad la variable service en una variable dummy que nos permitan identificar el servicio\n",
        "    más frecuente frente al resto \"\"\"\n",
        "\n",
        "most_frecuent_service = pd_data.groupby('service').size().sort_values(ascending=False)[:1].keys()[0]\n",
        "pd_data['service']= pd_data.service.apply(lambda x: 1 if x==most_frecuent_service else 0)\n",
        "pd_data.groupby('service').size().sort_values(ascending=False)"
      ],
      "execution_count": null,
      "outputs": [
        {
          "output_type": "execute_result",
          "data": {
            "text/plain": [
              "service\n",
              "0    27462\n",
              "1    22715\n",
              "dtype: int64"
            ]
          },
          "metadata": {
            "tags": []
          },
          "execution_count": 17
        }
      ]
    },
    {
      "cell_type": "code",
      "metadata": {
        "colab": {
          "base_uri": "https://localhost:8080/"
        },
        "id": "wPrPmJ923RnA",
        "outputId": "0440c3d7-1437-4f65-8d49-ee936627573b"
      },
      "source": [
        "most_frecuents_flags = pd_data.groupby('flag').size().sort_values(ascending=False)[:2].keys()\r\n",
        "most_frecuents_flags"
      ],
      "execution_count": null,
      "outputs": [
        {
          "output_type": "execute_result",
          "data": {
            "text/plain": [
              "Index([b'S0', b'SF'], dtype='object', name='flag')"
            ]
          },
          "metadata": {
            "tags": []
          },
          "execution_count": 18
        }
      ]
    },
    {
      "cell_type": "code",
      "metadata": {
        "colab": {
          "base_uri": "https://localhost:8080/"
        },
        "id": "4Nr37M6mA-_z",
        "outputId": "6bf53c2f-bd30-42a2-cd1b-03ef2e55b3f3"
      },
      "source": [
        "\"\"\" Transformad la variable flag en dos variables dummy que nos permitan identificar 3 tipos de flags, \n",
        "    los dos más comunes y el resto \"\"\"\n",
        "\n",
        "most_frecuents_flags = pd_data.groupby('flag').size().sort_values(ascending=False)[:2].keys()\n",
        "pd_data['flag']= pd_data.flag.apply(lambda x: x if x in most_frecuents_flags else 'Other')\n",
        "pd_data.groupby('flag').size().sort_values(ascending=False)"
      ],
      "execution_count": null,
      "outputs": [
        {
          "output_type": "execute_result",
          "data": {
            "text/plain": [
              "flag\n",
              "b'S0'    22846\n",
              "b'SF'    21553\n",
              "Other     5778\n",
              "dtype: int64"
            ]
          },
          "metadata": {
            "tags": []
          },
          "execution_count": 19
        }
      ]
    },
    {
      "cell_type": "code",
      "metadata": {
        "colab": {
          "base_uri": "https://localhost:8080/",
          "height": 437
        },
        "id": "77R_Y5c2A-_z",
        "outputId": "250f0637-9d7c-4b3e-f1e1-8d7a072e66fb"
      },
      "source": [
        "\"\"\" Volved a mostrad un barplot por cada variable \"\"\"\n",
        "\n",
        "for var in ['flag','service' ]:\n",
        "  plt.figure(figsize=(5,3))\n",
        "  plt.title(var)\n",
        "  sns.countplot(pd_data[var])\n",
        "  plt.xlabel('')\n",
        "  plt.show()"
      ],
      "execution_count": null,
      "outputs": [
        {
          "output_type": "display_data",
          "data": {
            "image/png": "[encoded data removed]",
            "text/plain": [
              "<Figure size 360x216 with 1 Axes>"
            ]
          },
          "metadata": {
            "tags": [],
            "needs_background": "light"
          }
        },
        {
          "output_type": "display_data",
          "data": {
            "image/png": "[encoded data removed]",
            "text/plain": [
              "<Figure size 360x216 with 1 Axes>"
            ]
          },
          "metadata": {
            "tags": [],
            "needs_background": "light"
          }
        }
      ]
    },
    {
      "cell_type": "code",
      "metadata": {
        "colab": {
          "base_uri": "https://localhost:8080/",
          "height": 707
        },
        "id": "_bGn0PKgA-_0",
        "outputId": "e58810b6-0abe-4d88-93e1-b9a73d47a9a9"
      },
      "source": [
        "\"\"\" Mostrad un plot de correlaciones entre variables numéricas \"\"\"\n",
        "plt.figure(figsize=(10,10))\n",
        "sns.heatmap(pd_data[num_cols].corr(), annot=True)\n",
        "plt.show()"
      ],
      "execution_count": null,
      "outputs": [
        {
          "output_type": "display_data",
          "data": {
            "image/png": "[encoded data removed]",
            "text/plain": [
              "<Figure size 720x720 with 2 Axes>"
            ]
          },
          "metadata": {
            "tags": [],
            "needs_background": "light"
          }
        }
      ]
    },
    {
      "cell_type": "markdown",
      "metadata": {
        "id": "3_w5UBMsKAwD"
      },
      "source": [
        "Veo si tengo más duplicados"
      ]
    },
    {
      "cell_type": "code",
      "metadata": {
        "colab": {
          "base_uri": "https://localhost:8080/"
        },
        "id": "hSJ3RG234p0c",
        "outputId": "b7f88466-5275-406c-b341-18ceadfa9f2d"
      },
      "source": [
        "\r\n",
        "pd_data.duplicated().sum()"
      ],
      "execution_count": null,
      "outputs": [
        {
          "output_type": "execute_result",
          "data": {
            "text/plain": [
              "50019"
            ]
          },
          "metadata": {
            "tags": []
          },
          "execution_count": 22
        }
      ]
    },
    {
      "cell_type": "markdown",
      "metadata": {
        "id": "wcYDBH0UKEsZ"
      },
      "source": [
        "Procedo a eliminarlos"
      ]
    },
    {
      "cell_type": "code",
      "metadata": {
        "colab": {
          "base_uri": "https://localhost:8080/"
        },
        "id": "F5IxSutOKHHP",
        "outputId": "33425aff-8e1e-45f6-9646-7a61546e7f84"
      },
      "source": [
        "pd_data = pd_data[~pd_data.duplicated()]\r\n",
        "pd_data.duplicated().sum()"
      ],
      "execution_count": null,
      "outputs": [
        {
          "output_type": "execute_result",
          "data": {
            "text/plain": [
              "0"
            ]
          },
          "metadata": {
            "tags": []
          },
          "execution_count": 23
        }
      ]
    },
    {
      "cell_type": "code",
      "metadata": {
        "colab": {
          "base_uri": "https://localhost:8080/"
        },
        "id": "XBMraxX82k_Z",
        "outputId": "9ed47fc6-878c-407a-8d9c-c91e593547fb"
      },
      "source": [
        "pd_data.shape"
      ],
      "execution_count": null,
      "outputs": [
        {
          "output_type": "execute_result",
          "data": {
            "text/plain": [
              "(158, 11)"
            ]
          },
          "metadata": {
            "tags": []
          },
          "execution_count": 24
        }
      ]
    },
    {
      "cell_type": "markdown",
      "metadata": {
        "id": "bOZVIDAP4ejp"
      },
      "source": [
        "Veo las categorías de cada variable\r\n"
      ]
    },
    {
      "cell_type": "code",
      "metadata": {
        "colab": {
          "base_uri": "https://localhost:8080/"
        },
        "id": "IDIn_WnA4d1N",
        "outputId": "58147104-fd39-41aa-9eb5-182d3c2b0be3"
      },
      "source": [
        "categories = {}\r\n",
        "for col in pd_data:\r\n",
        "    print(f'{col} : {pd_data[col].unique()}')\r\n",
        "    categories[col] = pd_data[col].unique()"
      ],
      "execution_count": null,
      "outputs": [
        {
          "output_type": "stream",
          "text": [
            "duration : [0. 1.]\n",
            "protocol_type : [b'tcp' b'udp' b'icmp']\n",
            "service : [0 1]\n",
            "flag : [b'SF' 'Other' b'S0']\n",
            "logged_in : [1 0]\n",
            "count : ['count<10' 'count[10,140]' 'count>140']\n",
            "srv_count : [0. 1.]\n",
            "serror_rate : [0. 1.]\n",
            "dst_host_srv_count : [0. 1.]\n",
            "dst_host_srv_serror_rate : [0. 1.]\n",
            "labels : [False  True]\n"
          ],
          "name": "stdout"
        }
      ]
    },
    {
      "cell_type": "markdown",
      "metadata": {
        "id": "f2Ey9IoeA-_0"
      },
      "source": [
        "### Model evaluation"
      ]
    },
    {
      "cell_type": "code",
      "metadata": {
        "id": "rvMyRkEeA-_0",
        "colab": {
          "base_uri": "https://localhost:8080/"
        },
        "outputId": "c880a5ef-efc9-4c39-ed68-b6cefea6bcc8"
      },
      "source": [
        "\"\"\" Realizad una evaluación de, al menos, cinco modelos de machine learning con\n",
        "    la técnica de validación cruzada más acertada (10 splits). Además, se pide\n",
        "    incorporar, al menos, una técnica de selección previa de las 1, 2 o 3 features que\n",
        "    mejores resultados ofrezca (Nota, tendreis que usar OneHotEncoder para las variables \n",
        "    que tengan strings) \"\"\"\n",
        "\n",
        "\n",
        "from sklearn.model_selection import StratifiedShuffleSplit\n",
        "from sklearn.ensemble import GradientBoostingClassifier\n",
        "from sklearn.ensemble import AdaBoostClassifier\n",
        "\n",
        "# Transformo las variables que contienen categorías como strings y como bytes \n",
        "col_transformer = ColumnTransformer([\n",
        "    (\"encoder_tipo1\", OneHotEncoder(categories=[[b'tcp', b'udp', b'icmp']], drop='first'), ['protocol_type']),\n",
        "    (\"encoder_tipo2\", OneHotEncoder(categories=[[b'SF', 'Other', b'S0']], drop='first'), ['flag']),\n",
        "    (\"encoder_tipo3\", OneHotEncoder(categories=[['count<10', 'count[10,140]', 'count>140']], drop='first'), ['count'])\n",
        "])\n",
        "\n",
        "# Selecciono modelos \n",
        "models = []\n",
        "models.append(('LR', LogisticRegression(random_state=seed)))\n",
        "models.append(('DTC', DecisionTreeClassifier(random_state=seed)))\n",
        "models.append(('RFC', RandomForestClassifier(random_state=seed)))\n",
        "models.append(('GBC', GradientBoostingClassifier()))\n",
        "models.append(('ADA', AdaBoostClassifier()))\n",
        "\n",
        "X = pd_data.drop(target, axis=1) \n",
        "y = pd_data[target]\n",
        "\n",
        "results = []\n",
        "names = []\n",
        "\n",
        "X_train, X_test, y_train, y_test = train_test_split(X, y, test_size=0.2, random_state=seed)\n",
        "\n",
        "for name, model in models:\n",
        "    \n",
        "    #Recursive Feature Elimination (RFE) como selector de las tres variables con más importancia\n",
        "    pipeline = make_pipeline(col_transformer, RFE(model,3), model)\n",
        "\n",
        "    #  Los folds se hacen preservando el porcentaje de cada clase\n",
        "    cv_technique = StratifiedKFold(n_splits=10, shuffle=True, random_state=seed)\n",
        "\n",
        "    #  Utilizo balanced_accuracy para que me de una media, de las medias de cada clase, puesto que nuestros datos \n",
        "    #  de la variable objetivo están desbalanceado\n",
        "    cv_results = cross_val_score(pipeline, X_train, y_train, cv=cv_technique, scoring='balanced_accuracy')\n",
        "    \n",
        "    msg = \"%s: %f (%f)\" % (name, cv_results.mean(), cv_results.std())\n",
        "    print(msg)\n",
        "    \n",
        "    results.append(cv_results)\n",
        "    names.append(name)\n",
        "    "
      ],
      "execution_count": null,
      "outputs": [
        {
          "output_type": "stream",
          "text": [
            "LR: 0.813333 (0.122656)\n",
            "DTC: 0.846667 (0.170750)\n",
            "RFC: 0.896667 (0.106927)\n",
            "GBC: 0.896667 (0.106927)\n",
            "ADA: 0.896667 (0.106927)\n"
          ],
          "name": "stdout"
        }
      ]
    },
    {
      "cell_type": "code",
      "metadata": {
        "colab": {
          "base_uri": "https://localhost:8080/",
          "height": 482
        },
        "id": "gc2RLL6fHhJz",
        "outputId": "7a004598-311d-420b-d820-6d7dc5549414"
      },
      "source": [
        "def boxplots_algorithms(results, names):\r\n",
        "    \r\n",
        "    plt.figure(figsize=(8,8))\r\n",
        "    plt.boxplot(results)\r\n",
        "    plt.xticks(range(1,len(names)+1), names)\r\n",
        "    plt.show()\r\n",
        "\r\n",
        "boxplots_algorithms(results, names)"
      ],
      "execution_count": null,
      "outputs": [
        {
          "output_type": "display_data",
          "data": {
            "image/png": "[encoded data removed]",
            "text/plain": [
              "<Figure size 576x576 with 1 Axes>"
            ]
          },
          "metadata": {
            "tags": [],
            "needs_background": "light"
          }
        }
      ]
    },
    {
      "cell_type": "markdown",
      "metadata": {
        "id": "nLwXg8gAk8Kg"
      },
      "source": [
        "En este caso me quedaria con cualquiera de estos tres:\r\n",
        "\r\n",
        "\r\n",
        "1.  RandomForestClassifier\r\n",
        "\r\n",
        "2. GradientBoostingClassifier\r\n",
        "\r\n",
        "3.   AdaBoostClassifier\r\n",
        "\r\n"
      ]
    }
  ]
}