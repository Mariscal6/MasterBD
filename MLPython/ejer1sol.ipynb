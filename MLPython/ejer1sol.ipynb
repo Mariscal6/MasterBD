{
  "nbformat": 4,
  "nbformat_minor": 0,
  "metadata": {
    "kernelspec": {
      "display_name": "Python 3",
      "language": "python",
      "name": "python3"
    },
    "language_info": {
      "codemirror_mode": {
        "name": "ipython",
        "version": 3
      },
      "file_extension": ".py",
      "mimetype": "text/x-python",
      "name": "python",
      "nbconvert_exporter": "python",
      "pygments_lexer": "ipython3",
      "version": "3.8.6"
    },
    "colab": {
      "name": "ejer1sol.ipynb",
      "provenance": [],
      "include_colab_link": true
    }
  },
  "cells": [
    {
      "cell_type": "markdown",
      "metadata": {
        "id": "view-in-github",
        "colab_type": "text"
      },
      "source": [
        "<a href=\"https://colab.research.google.com/github/Mariscal6/MasterBD/blob/main/MLPython/ejer1sol.ipynb\" target=\"_parent\"><img src=\"https://colab.research.google.com/assets/colab-badge.svg\" alt=\"Open In Colab\"/></a>"
      ]
    },
    {
      "cell_type": "code",
      "metadata": {
        "id": "IzVJ1nUlEWD6"
      },
      "source": [
        "\"\"\" Cualquier librería adicional que necesiteis durante el ejercicio, importadlo en esta sección \"\"\"\n",
        "\n",
        "import pandas as pd\n",
        "import numpy as np\n",
        "import matplotlib.pyplot as plt\n",
        "import seaborn as sns\n",
        "import warnings\n",
        "\n",
        "sns.set_style('darkgrid')\n",
        "np.set_printoptions(precision=2)\n",
        "# warnings.filterwarnings(\"ignore\")\n",
        "\n",
        "from sklearn.preprocessing import MinMaxScaler, StandardScaler, Normalizer, Binarizer, RobustScaler\n",
        "from sklearn.compose import ColumnTransformer\n",
        "from sklearn.preprocessing import OneHotEncoder, LabelEncoder, PowerTransformer\n",
        "from sklearn.impute import SimpleImputer, KNNImputer\n",
        "\n",
        "from sklearn.feature_selection import SelectKBest, chi2, RFE\n",
        "from sklearn.model_selection import train_test_split\n",
        "from sklearn.pipeline import make_pipeline, Pipeline\n",
        "from sklearn.decomposition import PCA\n",
        "\n",
        "from sklearn.linear_model import LogisticRegression\n",
        "from sklearn.tree import DecisionTreeClassifier\n",
        "from sklearn.neighbors import KNeighborsClassifier\n",
        "from sklearn.discriminant_analysis import LinearDiscriminantAnalysis\n",
        "from sklearn.naive_bayes import GaussianNB\n",
        "from sklearn.ensemble import RandomForestClassifier, ExtraTreesClassifier\n",
        "from sklearn.svm import SVC\n",
        "\n",
        "from sklearn.metrics import accuracy_score, confusion_matrix, classification_report, f1_score\n",
        "\n",
        "from sklearn.model_selection import KFold, ShuffleSplit, LeaveOneOut, StratifiedKFold\n",
        "from sklearn.model_selection import cross_val_score, cross_val_predict\n",
        "from sklearn.model_selection import GridSearchCV, RandomizedSearchCV"
      ],
      "execution_count": null,
      "outputs": []
    },
    {
      "cell_type": "markdown",
      "metadata": {
        "id": "x0Ulvfw5EWED"
      },
      "source": [
        "# Ejercicio 1\n",
        "Este ejercicio pretende poner en práctica la habilidad para crear modelos en sklearn mediante el uso de transformadores ad hoc.\n",
        "\n",
        "El estudiante tendrá que repasar los comandos realizados en clase y lidiar con posibles errores durante el desarrollo.\n",
        "\n",
        "Para facilitar y agilizar el desarrollo, el estudiante tendrá que rellenar los huecos marcados como '# codigo-alumno'. No obstante, si además el estudiante necesita ejecutar código adicional, siempre podrá utilizar cualquier celda adicional.\n",
        "\n",
        "El estudiante tendrá siempre que introducir una semilla (seed) que generará acorde a su fecha de nacimiento (sin ser intrusivos en edad).\n",
        "\n",
        "Finalmente, la entrega será un fichero .ipynb cambiando nombre y apellido al fichero"
      ]
    },
    {
      "cell_type": "code",
      "metadata": {
        "id": "h6iCH8efEWED"
      },
      "source": [
        "\"\"\" El estudiante tendrá que utilizar la semilla proporcionada para todos los procesos aleatorios \"\"\"\n",
        "\n",
        "seed = 6 + 13 * 11"
      ],
      "execution_count": null,
      "outputs": []
    },
    {
      "cell_type": "markdown",
      "metadata": {
        "id": "QclJ9hEvEWEE"
      },
      "source": [
        "## Data cleasing"
      ]
    },
    {
      "cell_type": "code",
      "metadata": {
        "id": "6FaNU1bfEWEE"
      },
      "source": [
        "\"\"\" Leed el fichero con pandas y almacenarlo en una variable llamada data \"\"\"\n",
        "\n",
        "data = pd.read_csv('./data/titanic-2.csv')"
      ],
      "execution_count": null,
      "outputs": []
    },
    {
      "cell_type": "code",
      "metadata": {
        "id": "4KT8it0sEWEF",
        "outputId": "4d8dd6d6-093b-42ec-f313-931002e4f5fd"
      },
      "source": [
        "data.columns"
      ],
      "execution_count": null,
      "outputs": [
        {
          "output_type": "execute_result",
          "data": {
            "text/plain": [
              "Index(['PassengerId', 'Survived', 'Pclass', 'Name', 'Sex', 'Age', 'SibSp',\n",
              "       'Parch', 'Ticket', 'Fare', 'Cabin', 'Embarked', 'Title'],\n",
              "      dtype='object')"
            ]
          },
          "metadata": {
            "tags": []
          },
          "execution_count": 5
        }
      ]
    },
    {
      "cell_type": "code",
      "metadata": {
        "id": "5IRTJz7hEWEG"
      },
      "source": [
        "\"\"\" Cread una variable adicional, llamada hasCabin, \n",
        "    que tome valor 0 si la columna Cabin es nula, y 1 si no lo es \"\"\"\n",
        "\n",
        "data['hasCabin'] = data['Cabin'].apply(lambda x: 0 if pd.isnull(x) else 1)"
      ],
      "execution_count": null,
      "outputs": []
    },
    {
      "cell_type": "code",
      "metadata": {
        "id": "deSoAvw6EWEH"
      },
      "source": [
        "\"\"\"Eliminad las columnas PassengerId, Cabin, Ticket y Name de data (comando drop) \"\"\"\n",
        "\n",
        "data = data.drop(['PassengerId','Cabin', 'Ticket','Name'], axis=1)"
      ],
      "execution_count": null,
      "outputs": []
    },
    {
      "cell_type": "code",
      "metadata": {
        "id": "zE7LELsnEWEH"
      },
      "source": [
        "\"\"\" Modificad las variables Title, Parch y SibSp, donde Title tome los valores Mr, Mrs, Miss y Otros. \n",
        "    Y Parch y SibSp toman los valores 0, 1 o 2 (donde 2 incluye 2 o más) \"\"\"\n",
        "\n",
        "data['SibSp'] = data.SibSp.apply(lambda x: 2 if x>=2 else x)\n",
        "data['Parch'] = data.Parch.apply(lambda x: 2 if x>=2 else x)\n",
        "data['Title'] = data.Title.apply(lambda x: x if x in ['Mr', 'Mrs', 'Miss'] else 'Other')"
      ],
      "execution_count": null,
      "outputs": []
    },
    {
      "cell_type": "code",
      "metadata": {
        "id": "1E63G5QyEWEH",
        "outputId": "2322ca0d-f331-4a79-ad22-73cde7f88bf1"
      },
      "source": [
        "\"\"\" Eliminad los dos registros cuyo valor Embarked es nulo \n",
        "    (se recomienda comprobar que se hayan eliminado correctamente) \"\"\"\n",
        "\n",
        "data = data[~data.Embarked.isnull()]\n",
        "data.isnull().sum()"
      ],
      "execution_count": null,
      "outputs": [
        {
          "output_type": "execute_result",
          "data": {
            "text/plain": [
              "Survived      0\n",
              "Pclass        0\n",
              "Sex           0\n",
              "Age         177\n",
              "SibSp         0\n",
              "Parch         0\n",
              "Fare          0\n",
              "Embarked      0\n",
              "Title         0\n",
              "hasCabin      0\n",
              "dtype: int64"
            ]
          },
          "metadata": {
            "tags": []
          },
          "execution_count": 9
        }
      ]
    },
    {
      "cell_type": "code",
      "metadata": {
        "id": "6UCKFJNIEWEI"
      },
      "source": [
        "\"\"\" Eliminad registros duplicados en caso de que los haya \"\"\"\n",
        "\n",
        "data = data[~data.duplicated()]"
      ],
      "execution_count": null,
      "outputs": []
    },
    {
      "cell_type": "code",
      "metadata": {
        "id": "pg3ZbxcxEWEI",
        "outputId": "b1b2ec19-0f20-4c5f-a5e6-0968854152e3"
      },
      "source": [
        "# Veo como están mis datos\n",
        "for col in data:\n",
        "    print(f'{col} : {data[col].unique()}')"
      ],
      "execution_count": null,
      "outputs": [
        {
          "output_type": "stream",
          "text": [
            "Survived : [0 1]\n",
            "Pclass : [3 1 2]\n",
            "Sex : ['male' 'female']\n",
            "Age : [22.   38.   26.   35.     nan 54.    2.   27.   14.    4.   58.   20.\n",
            " 39.   55.   31.   34.   15.   28.    8.   19.   40.   66.   42.   21.\n",
            " 18.    3.    7.   49.   29.   65.   28.5   5.   11.   45.   17.   32.\n",
            " 16.   25.    0.83 30.   33.   23.   24.   46.   59.   71.   37.   47.\n",
            " 14.5  70.5  32.5  12.    9.   36.5  51.   55.5  40.5  44.    1.   61.\n",
            " 56.   50.   36.   45.5  20.5  62.   41.   52.   63.   23.5   0.92 43.\n",
            " 60.   10.   64.   13.   48.    0.75 53.   57.   80.   70.   24.5   6.\n",
            "  0.67 30.5   0.42 34.5  74.  ]\n",
            "SibSp : [1 0 2]\n",
            "Parch : [0 1 2]\n",
            "Fare : [  7.25  71.28   7.92  53.1    8.05   8.46  51.86  21.07  11.13  30.07\n",
            "  16.7   26.55  31.27   7.85  16.    29.12  13.    18.     7.22  26.\n",
            "   8.03  35.5   31.39 263.     7.88   7.9   27.72 146.52   7.75  10.5\n",
            "  82.17  52.     7.23  11.24   9.47  21.    41.58  15.5   21.68  17.8\n",
            "  39.69   7.8   76.73  61.98  27.75  46.9   83.47  27.9   15.25   8.16\n",
            "   8.66  73.5   14.45  56.5    7.65  29.    12.47   9.     9.5    7.79\n",
            "  47.1   15.85  34.38  61.17  20.57  34.65  63.36  23.    77.29   8.65\n",
            "   7.78  24.15   9.82  14.46 247.52   7.14  22.36   6.97   7.05  14.5\n",
            "  15.05  26.28   9.22  79.2    6.75  11.5   36.75   7.8   12.53  66.6\n",
            "   7.31  61.38   7.73  69.55  16.1   15.75  20.52  55.    25.93  33.5\n",
            "  30.7   25.47  28.71   0.    15.05  39.    22.02  50.     8.4    6.5\n",
            "  10.46  18.79  31.   113.28  27.    76.29  90.     9.35  13.5    7.55\n",
            "  26.25  12.28   7.12  52.55  20.21  86.5  512.33  79.65 153.46 135.63\n",
            "  19.5   29.7   77.96  20.25  78.85  91.08  12.88   8.85 151.55  30.5\n",
            "  23.25  12.35 110.88 108.9   24.    56.93  83.16 262.38  14.   164.87\n",
            " 134.5    6.24  57.98  28.5  133.65  15.9    9.22  35.    75.25  69.3\n",
            "  55.44 211.5    4.01 227.53  15.74   7.73  12.   120.    12.65  18.75\n",
            "   6.86  32.5    7.88  14.4   55.9    8.11  81.86  19.26  19.97  89.1\n",
            "  38.5    7.72  13.79   9.84   7.05   7.52  12.29   9.59  49.5   78.27\n",
            "  15.1    7.63  22.52  26.29  59.4    7.5   34.02  93.5  221.78 106.42\n",
            "  49.5   71.    13.86   7.83  39.6   17.4   51.48  26.39  30.    40.12\n",
            "   8.71  15.    33.    42.4   15.55  65.    32.32   7.05   8.43  25.59\n",
            "   9.84   8.14  10.17 211.34  57.    13.42   7.74   9.48   7.74   8.36\n",
            "  23.45  25.93   8.68   8.52   7.89  37.     6.45   6.95   8.3    6.44\n",
            "  39.4   14.11  13.86  50.5    5.     9.85  10.52]\n",
            "Embarked : ['S' 'C' 'Q']\n",
            "Title : ['Mr' 'Mrs' 'Miss' 'Other']\n",
            "hasCabin : [0 1]\n"
          ],
          "name": "stdout"
        }
      ]
    },
    {
      "cell_type": "markdown",
      "metadata": {
        "id": "qLQUCSxREWEJ"
      },
      "source": [
        "## Feature engineering"
      ]
    },
    {
      "cell_type": "code",
      "metadata": {
        "id": "583onEysEWEJ",
        "outputId": "f61aebc2-217f-48e7-b006-42ae984a48b7"
      },
      "source": [
        "\"\"\"\n",
        "Realizar un ColumnTransformer que lleve:\n",
        "- Un KNN Imputer para 'Pclass', 'Age', 'SibSp', 'Parch', 'Fare'\n",
        "- Un PowerTransformer yeo-johnson para 'Fare'\n",
        "- Un OneHotEncoder para las variables 'Sex', 'Parch', 'Embarked' y 'Title'\n",
        "\"\"\"\n",
        "titles =  [['Other', 'Mr', 'Mrs', 'Miss']]\n",
        "\n",
        "col_transformer = ColumnTransformer([\n",
        "    (\"imputer\", KNNImputer(n_neighbors=5, weights='uniform', metric='nan_euclidean'), \n",
        "     ['Pclass', 'Age', 'SibSp', 'Parch', 'Fare']),\n",
        "    (\"yeo-johnson\", PowerTransformer(method='yeo-johnson'), ['Fare']),\n",
        "    (\"encoder_tipo1\", OneHotEncoder(drop='if_binary'), ['Sex']),\n",
        "    (\"encoder_tipo2\", OneHotEncoder(drop='first'), ['Embarked', 'Parch']),\n",
        "    (\"encoder_tipo3\", OneHotEncoder(categories=titles, drop='first'), ['Title'])\n",
        "])\n",
        "\n",
        "ctransformed = col_transformer.fit_transform(data)\n",
        "ctransformed"
      ],
      "execution_count": null,
      "outputs": [
        {
          "output_type": "execute_result",
          "data": {
            "text/plain": [
              "array([[ 3. , 22. ,  1. , ...,  1. ,  0. ,  0. ],\n",
              "       [ 1. , 38. ,  1. , ...,  0. ,  1. ,  0. ],\n",
              "       [ 3. , 26. ,  0. , ...,  0. ,  0. ,  1. ],\n",
              "       ...,\n",
              "       [ 3. , 26.8,  1. , ...,  0. ,  0. ,  1. ],\n",
              "       [ 1. , 26. ,  0. , ...,  1. ,  0. ,  0. ],\n",
              "       [ 3. , 32. ,  0. , ...,  1. ,  0. ,  0. ]])"
            ]
          },
          "metadata": {
            "tags": []
          },
          "execution_count": 12
        }
      ]
    },
    {
      "cell_type": "code",
      "metadata": {
        "id": "-6lhswrfEWEJ"
      },
      "source": [
        "\"\"\" Realizaremos un análisis de los siguientes modelos con las siguentes features \"\"\"\n",
        "\n",
        "models = []\n",
        "models.append(('LR', LogisticRegression(random_state=seed)))\n",
        "models.append(('LDA', LinearDiscriminantAnalysis()))\n",
        "models.append(('KNN', KNeighborsClassifier()))\n",
        "models.append(('DTC', DecisionTreeClassifier(random_state=seed)))\n",
        "models.append(('NB', GaussianNB()))\n",
        "models.append(('RFC', RandomForestClassifier(random_state=seed)))\n",
        "models.append(('SVM', SVC()))\n",
        "\n",
        "X = data[['Pclass', 'Sex', 'Age', 'SibSp', 'Parch', 'Fare', 'Embarked', 'Title', 'hasCabin']]\n",
        "y = data['Survived']"
      ],
      "execution_count": null,
      "outputs": []
    },
    {
      "cell_type": "code",
      "metadata": {
        "id": "pIwio9sdEWEK"
      },
      "source": [
        "\"\"\" Para plotear los resultados utilizaremos la siguiente función \"\"\"\n",
        "\n",
        "def boxplots_algorithms(results, names):\n",
        "    \n",
        "    plt.figure(figsize=(8,8))\n",
        "    plt.boxplot(results)\n",
        "    plt.xticks(range(1,len(names)+1), names)\n",
        "    plt.show()"
      ],
      "execution_count": null,
      "outputs": []
    },
    {
      "cell_type": "code",
      "metadata": {
        "id": "aLFrdaEQEWEK",
        "outputId": "b086dc33-4bd7-4f92-990c-1cb371d2b10d"
      },
      "source": [
        "\"\"\" Realizad un bucle que calcule, para cada modelo,\n",
        "    - Un pipeline que realice:\n",
        "        1. El ColumnTransformer diseñado anteriormente\n",
        "        2. Un RobustScaler a continuación y, finalmente, \n",
        "        3. Evalue cada modelo \n",
        "    - Una validación cruzada:\n",
        "        1. Tipo KFolds, con 10 splits \n",
        "        2. Aleatorio con semilla y,\n",
        "        3. scoring='accuracy'\n",
        "     Usaremos la función boxplots_algorithms para plotear los resultados \"\"\"\n",
        "\n",
        "results = []\n",
        "names = []\n",
        "\n",
        "for name, model in models:\n",
        "    \n",
        "    scaler = RobustScaler()\n",
        "    pipeline = make_pipeline(col_transformer, scaler, model)\n",
        "    \n",
        "    cv_technique = KFold(n_splits=10, shuffle=True, random_state=seed)\n",
        "    cv_results = cross_val_score(pipeline, X, y, cv=cv_technique, scoring='accuracy')\n",
        "    \n",
        "    msg = \"%s: %f (%f)\" % (name, cv_results.mean(), cv_results.std())\n",
        "    print(msg)\n",
        "    \n",
        "    results.append(cv_results)\n",
        "    names.append(name)\n",
        "    \n",
        "boxplots_algorithms(results, names)"
      ],
      "execution_count": null,
      "outputs": [
        {
          "output_type": "stream",
          "text": [
            "LR: 0.794028 (0.052096)\n",
            "LDA: 0.787650 (0.051688)\n",
            "KNN: 0.776306 (0.040043)\n",
            "DTC: 0.734372 (0.039824)\n",
            "NB: 0.763567 (0.047629)\n",
            "RFC: 0.764882 (0.054636)\n",
            "SVM: 0.805501 (0.047104)\n"
          ],
          "name": "stdout"
        },
        {
          "output_type": "display_data",
          "data": {
            "image/png": "[encoded data removed]",
            "text/plain": [
              "<Figure size 576x576 with 1 Axes>"
            ]
          },
          "metadata": {
            "tags": []
          }
        }
      ]
    },
    {
      "cell_type": "markdown",
      "metadata": {
        "id": "0SZmO7SZEWEL"
      },
      "source": [
        "En este caso me quedaría con el modelo de Support Vector Machine, puesto que su accuracy es la mejor y la desviación no es muy grande"
      ]
    },
    {
      "cell_type": "code",
      "metadata": {
        "id": "kounombOEWEL",
        "outputId": "e1cb0bb1-b838-4eee-e336-f3e7ef3cf4e1"
      },
      "source": [
        "\"\"\" Realizad el mismo estudio de selección de variables, pero con StratifiedKFolds \"\"\"\n",
        "\n",
        "results = []\n",
        "names = []\n",
        "\n",
        "for name, model in models:\n",
        "    \n",
        "    scaler = RobustScaler()\n",
        "    pipeline = make_pipeline(col_transformer, scaler, model)\n",
        "    \n",
        "    cv_technique = StratifiedKFold(n_splits=10, shuffle=True, random_state=seed)\n",
        "    cv_results = cross_val_score(pipeline, X, y, cv=cv_technique, scoring='accuracy')\n",
        "    \n",
        "    msg = \"%s: %f (%f)\" % (name, cv_results.mean(), cv_results.std())\n",
        "    print(msg)\n",
        "    \n",
        "    results.append(cv_results)\n",
        "    names.append(name)\n",
        "    \n",
        "boxplots_algorithms(results, names)"
      ],
      "execution_count": null,
      "outputs": [
        {
          "output_type": "stream",
          "text": [
            "LR: 0.784047 (0.042670)\n",
            "LDA: 0.784031 (0.039187)\n",
            "KNN: 0.771324 (0.046190)\n",
            "DTC: 0.753522 (0.054328)\n",
            "NB: 0.758585 (0.043183)\n",
            "RFC: 0.776420 (0.031777)\n",
            "SVM: 0.795407 (0.037160)\n"
          ],
          "name": "stdout"
        },
        {
          "output_type": "display_data",
          "data": {
            "image/png": "[encoded data removed]",
            "text/plain": [
              "<Figure size 576x576 with 1 Axes>"
            ]
          },
          "metadata": {
            "tags": []
          }
        }
      ]
    },
    {
      "cell_type": "markdown",
      "metadata": {
        "id": "faiuAe6lEWEL"
      },
      "source": [
        "Me volvería a quedar con el modelo de Support Vector Machine, por la misma razón"
      ]
    },
    {
      "cell_type": "markdown",
      "metadata": {
        "id": "5SriKYAIEWEL"
      },
      "source": [
        "## Model tuning"
      ]
    },
    {
      "cell_type": "code",
      "metadata": {
        "id": "-iljoKBdEWEM",
        "outputId": "0c969adb-4a86-459b-fdb7-61e4238cb3f1"
      },
      "source": [
        "\"\"\" Realizad un Tuneado del RandomForestClassifier para estimar cuál es la mejor configuración paramétrica\n",
        "    Y comprobarlo con GridSearchCV \"\"\"\n",
        "\n",
        "param_grid = { \n",
        "    'model__n_estimators': [10, 20],\n",
        "    'model__max_features': ['auto', 'sqrt', 'log2'],\n",
        "    'model__max_depth' : [4,5,6,7,8],\n",
        "    'model__criterion' :['gini', 'entropy']\n",
        "}\n",
        "model = RandomForestClassifier(random_state=seed)\n",
        "\n",
        "pipeline = Pipeline([('transformacion_columna', col_transformer), \n",
        "                     ('robust_scaler', scaler), \n",
        "                     ('model', model)])\n",
        "\n",
        "cv_technique = StratifiedKFold(n_splits=10, shuffle=True, random_state=seed)\n",
        "grid_model = GridSearchCV(estimator=pipeline, param_grid=param_grid, cv=cv_technique)\n",
        "grid_model.fit(X, y)\n",
        "\n",
        "print(grid_model.best_score_)\n",
        "print(grid_model.best_estimator_.steps[-1])"
      ],
      "execution_count": null,
      "outputs": [
        {
          "output_type": "stream",
          "text": [
            "0.8119766309639728\n",
            "('model', RandomForestClassifier(criterion='entropy', max_depth=7, n_estimators=20,\n",
            "                       random_state=149))\n"
          ],
          "name": "stdout"
        }
      ]
    },
    {
      "cell_type": "code",
      "metadata": {
        "id": "PWrMz0bLEWEN"
      },
      "source": [
        ""
      ],
      "execution_count": null,
      "outputs": []
    }
  ]
}